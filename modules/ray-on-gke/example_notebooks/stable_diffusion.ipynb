{
 "cells": [
  {
   "cell_type": "code",
   "execution_count": null,
   "id": "87de4be6-9766-4dad-a854-778ff39d2868",
   "metadata": {
    "tags": []
   },
   "outputs": [],
   "source": [
    "#install dependencies\n",
    "\n",
    "!pip install \"ray==2.6.1\"\n",
    "!pip install torch --no-cache-dir\n",
    "!pip install \"ray[serve]\" requests diffusers transformers fastapi==0.96"
   ]
  },
  {
   "cell_type": "code",
   "execution_count": null,
   "id": "904dbfdf-f401-4280-b4e0-693171010325",
   "metadata": {
    "tags": []
   },
   "outputs": [],
   "source": [
    "import ray\n",
    "\n",
    "# Initialize Ray Cluster\n",
    "ray.init(\n",
    "    address=\"ray://example-cluster-kuberay-head-svc:10001\",\n",
    "    runtime_env={\n",
    "        \"pip\": [\n",
    "            \"IPython\",\n",
    "            \"boto3==1.26\",\n",
    "            \"botocore==1.29\", \n",
    "            \"datasets\",\n",
    "            \"diffusers\",\n",
    "            \"fastapi==0.96\",\n",
    "            \"accelerate>=0.16.0\",\n",
    "            \"transformers>=4.26.0\",\n",
    "            \"numpy<1.24\",  # remove when mlflow updates beyond 2.2\n",
    "            \"torch\",\n",
    "        ]\n",
    "    }\n",
    ")"
   ]
  },
  {
   "cell_type": "code",
   "execution_count": null,
   "id": "d0fb5dbe-ef52-4457-8d0f-62b5307c96db",
   "metadata": {
    "tags": []
   },
   "outputs": [],
   "source": [
    "from io import BytesIO\n",
    "from fastapi import FastAPI\n",
    "from fastapi.responses import Response\n",
    "import torch\n",
    "\n",
    "from ray import serve\n",
    "\n",
    "\n",
    "app = FastAPI()\n",
    "\n",
    "\n",
    "@serve.deployment(num_replicas=1, route_prefix=\"/\")\n",
    "@serve.ingress(app)\n",
    "class APIIngress:\n",
    "    def __init__(self, diffusion_model_handle) -> None:\n",
    "        self.handle = diffusion_model_handle\n",
    "\n",
    "    @app.get(\n",
    "        \"/imagine\",\n",
    "        responses={200: {\"content\": {\"image/png\": {}}}},\n",
    "        response_class=Response,\n",
    "    )\n",
    "    async def generate(self, prompt: str, img_size: int = 512):\n",
    "        assert len(prompt), \"prompt parameter cannot be empty\"\n",
    "\n",
    "        image_ref = await self.handle.generate.remote(prompt, img_size=img_size)\n",
    "        image = await image_ref\n",
    "        file_stream = BytesIO()\n",
    "        image.save(file_stream, \"PNG\")\n",
    "        return Response(content=file_stream.getvalue(), media_type=\"image/png\")\n",
    "\n",
    "\n",
    "@serve.deployment(\n",
    "    ray_actor_options={\"num_gpus\": 1},\n",
    "    autoscaling_config={\"min_replicas\": 0, \"max_replicas\": 2},\n",
    ")\n",
    "class StableDiffusionV2:\n",
    "    def __init__(self):\n",
    "        from diffusers import EulerDiscreteScheduler, StableDiffusionPipeline\n",
    "\n",
    "        model_id = \"stabilityai/stable-diffusion-2\"\n",
    "\n",
    "        scheduler = EulerDiscreteScheduler.from_pretrained(\n",
    "            model_id, subfolder=\"scheduler\"\n",
    "        )\n",
    "        self.pipe = StableDiffusionPipeline.from_pretrained(\n",
    "            model_id, scheduler=scheduler, revision=\"fp16\", torch_dtype=torch.float16\n",
    "        )\n",
    "        self.pipe = self.pipe.to(\"cuda\")\n",
    "\n",
    "    def generate(self, prompt: str, img_size: int = 512):\n",
    "        assert len(prompt), \"prompt parameter cannot be empty\"\n",
    "\n",
    "        image = self.pipe(prompt, height=img_size, width=img_size).images[0]\n",
    "        return image"
   ]
  },
  {
   "cell_type": "code",
   "execution_count": null,
   "id": "1e2b7278-1be0-48f1-8b78-72a5edc5e9e3",
   "metadata": {
    "tags": []
   },
   "outputs": [],
   "source": [
    "deployment = APIIngress.bind(StableDiffusionV2.bind())\n",
    "serve.run(deployment, host=\"0.0.0.0\")"
   ]
  },
  {
   "cell_type": "code",
   "execution_count": null,
   "id": "c9a4e3cc-4add-4781-b20b-1043959bda50",
   "metadata": {
    "tags": []
   },
   "outputs": [],
   "source": [
    "import requests\n",
    "\n",
    "prompt = \"a cute cat is dancing on the grass.\"\n",
    "input = \"%20\".join(prompt.split(\" \"))\n",
    "resp = requests.get(f\"http://example-cluster-kuberay-head-svc:8000/imagine?prompt={input}\")\n",
    "with open(\"output.png\", 'wb') as f:\n",
    "    f.write(resp.content)"
   ]
  },
  {
   "cell_type": "code",
   "execution_count": null,
   "id": "c804cea1-ef0e-4c5c-9884-6907d9e750a4",
   "metadata": {},
   "outputs": [],
   "source": [
    "from IPython.display import Image, display\n",
    "display(Image(filename='output.png'))"
   ]
  },
  {
   "cell_type": "code",
   "execution_count": null,
   "id": "e0e63577-1dcb-42d9-a044-2307f32d83dc",
   "metadata": {
    "tags": []
   },
   "outputs": [],
   "source": [
    "from ray import serve\n",
    "\n",
    "serve.shutdown()"
   ]
  },
  {
   "cell_type": "code",
   "execution_count": null,
   "id": "99570cfe-c359-4392-86da-099dbfe73e46",
   "metadata": {},
   "outputs": [],
   "source": []
  }
 ],
 "metadata": {
  "kernelspec": {
   "display_name": "Python 3 (ipykernel)",
   "language": "python",
   "name": "python3"
  },
  "language_info": {
   "codemirror_mode": {
    "name": "ipython",
    "version": 3
   },
   "file_extension": ".py",
   "mimetype": "text/x-python",
   "name": "python",
   "nbconvert_exporter": "python",
   "pygments_lexer": "ipython3",
   "version": "3.10.11"
  }
 },
 "nbformat": 4,
 "nbformat_minor": 5
}
