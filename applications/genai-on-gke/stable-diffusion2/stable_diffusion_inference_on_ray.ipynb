{
 "cells": [
  {
   "cell_type": "markdown",
   "id": "7c83215b-247b-441d-a8d0-4d2618a5256a",
   "metadata": {},
   "source": [
    "# Serving a Stable Diffusion Model¶\n",
    "\n",
    "This example runs a Stable Diffusion application with Ray Serve.\n",
    "\n",
    "This example uses the [stabilityai/stable-diffusion-2](https://huggingface.co/stabilityai/stable-diffusion-2) model and [FastAPI](https://fastapi.tiangolo.com/) to build the example\n",
    "\n",
    "Steps:\n",
    "1. Execute the stable_diffusion_on_ray.ipynb notebook to initiate the ray server and import the model\n",
    "2. Run the below inference steps"
   ]
  },
  {
   "cell_type": "markdown",
   "id": "55433bb7-6076-4d2f-ae4a-ffbe7dc1ab4a",
   "metadata": {},
   "source": [
    "### Define Ray Service"
   ]
  },
  {
   "cell_type": "code",
   "execution_count": null,
   "id": "0ae0b750-06a0-4934-b9e4-e2214cd206ac",
   "metadata": {},
   "outputs": [],
   "source": [
    "ray_cluster_headnode_svc = \"http://example-cluster-kuberay-head-svc:8000\""
   ]
  },
  {
   "cell_type": "markdown",
   "id": "8e63fe04-80e3-4b32-8c56-f20d323fd468",
   "metadata": {},
   "source": [
    "### Inference using single prompt"
   ]
  },
  {
   "cell_type": "code",
   "execution_count": null,
   "id": "4bf3e170-ac1d-4441-9277-16a551637791",
   "metadata": {},
   "outputs": [],
   "source": [
    "import requests\n",
    "from IPython.display import Image, display\n",
    "\n",
    "prompt = \"An helicopter fying over snow capped mountains\"\n",
    "# prompt = \"A serious capybara at work, wearing a suit\"\n",
    "# prompt = \"A Squirtle fine dining with a view to the London Eye\"\n",
    "# prompt = \"A tamale food cart in front of a Japanese Castle\"\n",
    "# prompt = \"a graffiti of a robot serving meals to people\"\n",
    "# prompt = \"a beautiful cabin in Attersee, Austria, 3d animation style\"\n",
    "\n",
    "input = \"%20\".join(prompt.split(\" \"))\n",
    "resp = requests.get(f\"{ray_cluster_headnode_svc}/imagine?prompt={input}\")\n",
    "\n",
    "display(Image(resp.content))"
   ]
  },
  {
   "cell_type": "markdown",
   "id": "e51e3993-f1f7-4232-942c-2055fd9fd5c7",
   "metadata": {},
   "source": [
    "### Inference for Multiple Prompts"
   ]
  },
  {
   "cell_type": "code",
   "execution_count": null,
   "id": "54a0a63f-39a6-4328-9d9a-a9870e71aed6",
   "metadata": {},
   "outputs": [],
   "source": [
    "import requests\n",
    "import multiprocessing\n",
    "import random\n",
    "from io import BytesIO\n",
    "from PIL import Image\n",
    "\n",
    "def send_request_and_receive_image(prompt: str):\n",
    "  \"\"\"Sends a single prompt request and returns the Image.\"\"\"\n",
    "  inputs = \"%20\".join(prompt.split(\" \"))\n",
    "  resp = requests.get(f\"{ray_cluster_headnode_svc}/imagine?prompt={inputs}\")\n",
    "\n",
    "  return BytesIO(resp.content)\n",
    "\n",
    "\n",
    "def send_requests():\n",
    "  \"\"\"Sends a list of requests and processes the responses.\"\"\"\n",
    "  prompts = [\n",
    "      \"Labrador in the style of Hokusai\",\n",
    "      \"Painting of a squirrel skating in New York\",\n",
    "      \"HAL-9000 in the style of Van Gogh\",\n",
    "      \"Times Square under water, with fish and a dolphin swimming around\",\n",
    "      \"A rocket race car driving around the milky way\",\n",
    "      \"A house carried by balloons across the rocky mountains\",\n",
    "      \"Armchair in the shape of an avocado\",\n",
    "      \"Clown astronaut in space, with Earth in the background\",\n",
    "  ]\n",
    "  with multiprocessing.Pool(processes=len(prompts)) as p:\n",
    "    raw_images = p.map(send_request_and_receive_image, prompts)\n",
    "\n",
    "  images = [Image.open(raw_image) for raw_image in raw_images]\n",
    "\n",
    "  def image_grid(imgs, rows, cols):\n",
    "    w, h = imgs[0].size\n",
    "    grid = Image.new(\"RGB\", size=(cols * w, rows * h))\n",
    "    for i, img in enumerate(imgs):\n",
    "      grid.paste(img, box=(i % cols * w, i // cols * h))\n",
    "    return grid\n",
    "\n",
    "  grid = image_grid(images, 2, 4)\n",
    "  grid.save(f\"./out.png\")"
   ]
  },
  {
   "cell_type": "code",
   "execution_count": null,
   "id": "b2269325-1550-4f56-a8be-3a1423fafce3",
   "metadata": {},
   "outputs": [],
   "source": [
    "send_requests()"
   ]
  },
  {
   "cell_type": "code",
   "execution_count": null,
   "id": "a65acce0-f24a-409f-9705-9d04510c8e03",
   "metadata": {},
   "outputs": [],
   "source": [
    "from IPython.display import Image, display\n",
    "display(Image(filename='out.png'))"
   ]
  }
 ],
 "metadata": {
  "environment": {
   "kernel": "python3",
   "name": "common-gpu.m111",
   "type": "gcloud",
   "uri": "gcr.io/deeplearning-platform-release/base-gpu:m111"
  },
  "kernelspec": {
   "display_name": "Python 3",
   "language": "python",
   "name": "python3"
  },
  "language_info": {
   "codemirror_mode": {
    "name": "ipython",
    "version": 3
   },
   "file_extension": ".py",
   "mimetype": "text/x-python",
   "name": "python",
   "nbconvert_exporter": "python",
   "pygments_lexer": "ipython3",
   "version": "3.10.12"
  }
 },
 "nbformat": 4,
 "nbformat_minor": 5
}
