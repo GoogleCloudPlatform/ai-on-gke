{
 "cells": [
  {
   "cell_type": "code",
   "execution_count": 1,
   "id": "f90a007a-e58c-4217-8a17-be576b882bde",
   "metadata": {
    "tags": []
   },
   "outputs": [
    {
     "name": "stdout",
     "output_type": "stream",
     "text": [
      "Fri Dec  1 11:55:44 2023       \n",
      "+---------------------------------------------------------------------------------------+\n",
      "| NVIDIA-SMI 535.104.12             Driver Version: 535.104.12   CUDA Version: 12.2     |\n",
      "|-----------------------------------------+----------------------+----------------------+\n",
      "| GPU  Name                 Persistence-M | Bus-Id        Disp.A | Volatile Uncorr. ECC |\n",
      "| Fan  Temp   Perf          Pwr:Usage/Cap |         Memory-Usage | GPU-Util  Compute M. |\n",
      "|                                         |                      |               MIG M. |\n",
      "|=========================================+======================+======================|\n",
      "|   0  Tesla T4                       Off | 00000000:00:04.0 Off |                    0 |\n",
      "| N/A   38C    P8              10W /  70W |      2MiB / 15360MiB |      0%      Default |\n",
      "|                                         |                      |                  N/A |\n",
      "+-----------------------------------------+----------------------+----------------------+\n",
      "|   1  Tesla T4                       Off | 00000000:00:05.0 Off |                    0 |\n",
      "| N/A   41C    P8              10W /  70W |      2MiB / 15360MiB |      0%      Default |\n",
      "|                                         |                      |                  N/A |\n",
      "+-----------------------------------------+----------------------+----------------------+\n",
      "|   2  Tesla T4                       Off | 00000000:00:06.0 Off |                    0 |\n",
      "| N/A   42C    P8              10W /  70W |      2MiB / 15360MiB |      0%      Default |\n",
      "|                                         |                      |                  N/A |\n",
      "+-----------------------------------------+----------------------+----------------------+\n",
      "|   3  Tesla T4                       Off | 00000000:00:07.0 Off |                    0 |\n",
      "| N/A   40C    P8              10W /  70W |      2MiB / 15360MiB |      0%      Default |\n",
      "|                                         |                      |                  N/A |\n",
      "+-----------------------------------------+----------------------+----------------------+\n",
      "                                                                                         \n",
      "+---------------------------------------------------------------------------------------+\n",
      "| Processes:                                                                            |\n",
      "|  GPU   GI   CI        PID   Type   Process name                            GPU Memory |\n",
      "|        ID   ID                                                             Usage      |\n",
      "|=======================================================================================|\n",
      "|  No running processes found                                                           |\n",
      "+---------------------------------------------------------------------------------------+\n"
     ]
    }
   ],
   "source": [
    "!nvidia-smi"
   ]
  },
  {
   "cell_type": "code",
   "execution_count": 2,
   "id": "13c7a01e-b9ce-406c-a5a7-e6c3d186f6a9",
   "metadata": {
    "tags": []
   },
   "outputs": [],
   "source": [
    "!pip install -q  einops  langchain bitsandbytes"
   ]
  },
  {
   "cell_type": "code",
   "execution_count": 3,
   "id": "8a10433b-5661-4f75-b4ee-10cc013d6823",
   "metadata": {
    "tags": []
   },
   "outputs": [
    {
     "name": "stderr",
     "output_type": "stream",
     "text": [
      "2023-12-01 11:57:32.057881: I tensorflow/core/platform/cpu_feature_guard.cc:193] This TensorFlow binary is optimized with oneAPI Deep Neural Network Library (oneDNN) to use the following CPU instructions in performance-critical operations:  AVX2 FMA\n",
      "To enable them in other operations, rebuild TensorFlow with the appropriate compiler flags.\n",
      "2023-12-01 11:57:33.000495: W tensorflow/compiler/xla/stream_executor/platform/default/dso_loader.cc:64] Could not load dynamic library 'libnvinfer.so.7'; dlerror: libnvinfer.so.7: cannot open shared object file: No such file or directory; LD_LIBRARY_PATH: /usr/local/nvidia/lib:/usr/local/nvidia/lib64\n",
      "2023-12-01 11:57:33.000725: W tensorflow/compiler/xla/stream_executor/platform/default/dso_loader.cc:64] Could not load dynamic library 'libnvinfer_plugin.so.7'; dlerror: libnvinfer_plugin.so.7: cannot open shared object file: No such file or directory; LD_LIBRARY_PATH: /usr/local/nvidia/lib:/usr/local/nvidia/lib64\n",
      "2023-12-01 11:57:33.000745: W tensorflow/compiler/tf2tensorrt/utils/py_utils.cc:38] TF-TRT Warning: Cannot dlopen some TensorRT libraries. If you would like to use Nvidia GPU with TensorRT, please make sure the missing libraries mentioned above are installed properly.\n",
      "/opt/conda/lib/python3.10/site-packages/pandas/core/computation/expressions.py:21: UserWarning: Pandas requires version '2.8.0' or newer of 'numexpr' (version '2.7.3' currently installed).\n",
      "  from pandas.core.computation.check import NUMEXPR_INSTALLED\n"
     ]
    }
   ],
   "source": [
    "from langchain import HuggingFacePipeline\n",
    "from transformers import AutoTokenizer, pipeline\n",
    "import torch"
   ]
  },
  {
   "cell_type": "code",
   "execution_count": 4,
   "id": "867b69d4-c08c-49fd-81b0-3c12e0f19634",
   "metadata": {
    "tags": []
   },
   "outputs": [
    {
     "name": "stdout",
     "output_type": "stream",
     "text": [
      "Token will not been saved to git credential helper. Pass `add_to_git_credential=True` if you want to set the git credential as well.\n",
      "Token is valid (permission: write).\n",
      "Your token has been saved to /home/jovyan/.cache/huggingface/token\n",
      "Login successful\n"
     ]
    }
   ],
   "source": [
    "!huggingface-cli login --token {placeholder for token}"
   ]
  },
  {
   "cell_type": "code",
   "execution_count": 5,
   "id": "59a14802-38a2-4d96-b115-1ee0080d43f8",
   "metadata": {
    "tags": []
   },
   "outputs": [
    {
     "data": {
      "application/vnd.jupyter.widget-view+json": {
       "model_id": "7cadf0ddb84f4985977676410efe8359",
       "version_major": 2,
       "version_minor": 0
      },
      "text/plain": [
       "tokenizer_config.json:   0%|          | 0.00/287 [00:00<?, ?B/s]"
      ]
     },
     "metadata": {},
     "output_type": "display_data"
    },
    {
     "data": {
      "application/vnd.jupyter.widget-view+json": {
       "model_id": "fc415bc40d9346d7bda2854f40c3d638",
       "version_major": 2,
       "version_minor": 0
      },
      "text/plain": [
       "tokenizer.json:   0%|          | 0.00/2.73M [00:00<?, ?B/s]"
      ]
     },
     "metadata": {},
     "output_type": "display_data"
    },
    {
     "data": {
      "application/vnd.jupyter.widget-view+json": {
       "model_id": "a9f5892365db40188d31d04dd50bcade",
       "version_major": 2,
       "version_minor": 0
      },
      "text/plain": [
       "special_tokens_map.json:   0%|          | 0.00/281 [00:00<?, ?B/s]"
      ]
     },
     "metadata": {},
     "output_type": "display_data"
    }
   ],
   "source": [
    "model = \"tiiuae/falcon-7b-instruct\" #tiiuae/falcon-40b-instruct\n",
    "\n",
    "tokenizer = AutoTokenizer.from_pretrained(model)"
   ]
  },
  {
   "cell_type": "code",
   "execution_count": 6,
   "id": "9859498c-fb9b-4649-bd86-74db5be4be50",
   "metadata": {
    "tags": []
   },
   "outputs": [
    {
     "data": {
      "application/vnd.jupyter.widget-view+json": {
       "model_id": "3bdbe11e8add4c6cb93e16d812176cdf",
       "version_major": 2,
       "version_minor": 0
      },
      "text/plain": [
       "config.json:   0%|          | 0.00/1.05k [00:00<?, ?B/s]"
      ]
     },
     "metadata": {},
     "output_type": "display_data"
    },
    {
     "data": {
      "application/vnd.jupyter.widget-view+json": {
       "model_id": "563a95a3f7374bf3aa63d965c4d85c04",
       "version_major": 2,
       "version_minor": 0
      },
      "text/plain": [
       "configuration_falcon.py:   0%|          | 0.00/7.16k [00:00<?, ?B/s]"
      ]
     },
     "metadata": {},
     "output_type": "display_data"
    },
    {
     "name": "stderr",
     "output_type": "stream",
     "text": [
      "A new version of the following files was downloaded from https://huggingface.co/tiiuae/falcon-7b-instruct:\n",
      "- configuration_falcon.py\n",
      ". Make sure to double-check they do not contain any added malicious code. To avoid downloading new versions of the code file, you can pin a revision.\n",
      "\n",
      "WARNING: You are currently loading Falcon using legacy code contained in the model repository. Falcon has now been fully ported into the Hugging Face transformers library. For the most up-to-date and high-performance version of the Falcon model code, please update to the latest version of transformers and then load the model without the trust_remote_code=True argument.\n",
      "\n"
     ]
    },
    {
     "data": {
      "application/vnd.jupyter.widget-view+json": {
       "model_id": "9b4a4bb6765b49b6a8337dfbb2793127",
       "version_major": 2,
       "version_minor": 0
      },
      "text/plain": [
       "modeling_falcon.py:   0%|          | 0.00/56.9k [00:00<?, ?B/s]"
      ]
     },
     "metadata": {},
     "output_type": "display_data"
    },
    {
     "name": "stderr",
     "output_type": "stream",
     "text": [
      "A new version of the following files was downloaded from https://huggingface.co/tiiuae/falcon-7b-instruct:\n",
      "- modeling_falcon.py\n",
      ". Make sure to double-check they do not contain any added malicious code. To avoid downloading new versions of the code file, you can pin a revision.\n"
     ]
    },
    {
     "data": {
      "application/vnd.jupyter.widget-view+json": {
       "model_id": "e719270142fe4b6d9e87dc1ed156d73c",
       "version_major": 2,
       "version_minor": 0
      },
      "text/plain": [
       "pytorch_model.bin.index.json:   0%|          | 0.00/16.9k [00:00<?, ?B/s]"
      ]
     },
     "metadata": {},
     "output_type": "display_data"
    },
    {
     "data": {
      "application/vnd.jupyter.widget-view+json": {
       "model_id": "176327ed891e49cda6defc9bd51a91e4",
       "version_major": 2,
       "version_minor": 0
      },
      "text/plain": [
       "Downloading shards:   0%|          | 0/2 [00:00<?, ?it/s]"
      ]
     },
     "metadata": {},
     "output_type": "display_data"
    },
    {
     "data": {
      "application/vnd.jupyter.widget-view+json": {
       "model_id": "de971dbb2c65488799200d0cf803969f",
       "version_major": 2,
       "version_minor": 0
      },
      "text/plain": [
       "pytorch_model-00001-of-00002.bin:   0%|          | 0.00/9.95G [00:00<?, ?B/s]"
      ]
     },
     "metadata": {},
     "output_type": "display_data"
    },
    {
     "data": {
      "application/vnd.jupyter.widget-view+json": {
       "model_id": "83b585948115455b812d1fd1093a31b9",
       "version_major": 2,
       "version_minor": 0
      },
      "text/plain": [
       "pytorch_model-00002-of-00002.bin:   0%|          | 0.00/4.48G [00:00<?, ?B/s]"
      ]
     },
     "metadata": {},
     "output_type": "display_data"
    },
    {
     "data": {
      "application/vnd.jupyter.widget-view+json": {
       "model_id": "1af2d98b55224f6b94eca7d4ec2ee673",
       "version_major": 2,
       "version_minor": 0
      },
      "text/plain": [
       "Loading checkpoint shards:   0%|          | 0/2 [00:00<?, ?it/s]"
      ]
     },
     "metadata": {},
     "output_type": "display_data"
    },
    {
     "data": {
      "application/vnd.jupyter.widget-view+json": {
       "model_id": "2ab2560365e04dc2b47e8f86873107ba",
       "version_major": 2,
       "version_minor": 0
      },
      "text/plain": [
       "generation_config.json:   0%|          | 0.00/117 [00:00<?, ?B/s]"
      ]
     },
     "metadata": {},
     "output_type": "display_data"
    }
   ],
   "source": [
    "pipeline = pipeline(\n",
    "    \"text-generation\", #task\n",
    "    model=model,\n",
    "    tokenizer=tokenizer,\n",
    "    torch_dtype=torch.bfloat16,\n",
    "    trust_remote_code=True,\n",
    "    device_map=\"auto\",\n",
    "    max_length=200,\n",
    "    do_sample=True,\n",
    "    top_k=10,\n",
    "    num_return_sequences=1,\n",
    "    eos_token_id=tokenizer.eos_token_id\n",
    ")"
   ]
  },
  {
   "cell_type": "code",
   "execution_count": 7,
   "id": "7cb9e93f-8657-42c4-ab29-9136ca684ea4",
   "metadata": {
    "tags": []
   },
   "outputs": [],
   "source": [
    "llm = HuggingFacePipeline(pipeline = pipeline, model_kwargs = {'temperature':0})"
   ]
  },
  {
   "cell_type": "code",
   "execution_count": 8,
   "id": "2b07cc2d-e931-4d75-8b60-69d165487815",
   "metadata": {
    "tags": []
   },
   "outputs": [
    {
     "name": "stderr",
     "output_type": "stream",
     "text": [
      "Setting `pad_token_id` to `eos_token_id`:11 for open-end generation.\n"
     ]
    },
    {
     "name": "stdout",
     "output_type": "stream",
     "text": [
      "\n",
      "Artificial intelligence is a fancy way\n",
      "Of saying machines can think, too\n",
      "Computers, phones, and all their gadgets\n",
      "Can learn and solve problems, like a kid in a class\n",
      "A little bit like your favorite teacher\n",
      "But computers can do things wayyyy faster \n",
      "So they can really help you learn new information and facts\n",
      "And help make your life a whole lot easier.\n"
     ]
    }
   ],
   "source": [
    "from langchain import PromptTemplate,  LLMChain\n",
    "\n",
    "template = \"\"\"\n",
    "You are an intelligent chatbot. Help the following question with brilliant answers.\n",
    "Question: {question}\n",
    "Answer:\"\"\"\n",
    "prompt = PromptTemplate(template=template, input_variables=[\"question\"])\n",
    "\n",
    "llm_chain = LLMChain(prompt=prompt, llm=llm)\n",
    "\n",
    "question = \"Explain what is Artificial Intellience as Nursery Rhymes \"\n",
    "\n",
    "print(llm_chain.run(question))"
   ]
  },
  {
   "cell_type": "code",
   "execution_count": 10,
   "id": "8593acd6-a45f-48f3-857a-ee81cec6d51f",
   "metadata": {
    "tags": []
   },
   "outputs": [],
   "source": [
    "from transformers import AutoTokenizer, AutoModelForCausalLM\n",
    "import transformers\n",
    "import torch"
   ]
  },
  {
   "cell_type": "code",
   "execution_count": 11,
   "id": "90e210c1-fff3-4c2c-a357-0590b7e46710",
   "metadata": {
    "tags": []
   },
   "outputs": [
    {
     "data": {
      "application/vnd.jupyter.widget-view+json": {
       "model_id": "1e8c790062b64a88b72f1369587194b2",
       "version_major": 2,
       "version_minor": 0
      },
      "text/plain": [
       "tokenizer_config.json:   0%|          | 0.00/287 [00:00<?, ?B/s]"
      ]
     },
     "metadata": {},
     "output_type": "display_data"
    },
    {
     "data": {
      "application/vnd.jupyter.widget-view+json": {
       "model_id": "20b9a43be5754594bce661aa334fa7ff",
       "version_major": 2,
       "version_minor": 0
      },
      "text/plain": [
       "tokenizer.json:   0%|          | 0.00/2.73M [00:00<?, ?B/s]"
      ]
     },
     "metadata": {},
     "output_type": "display_data"
    },
    {
     "data": {
      "application/vnd.jupyter.widget-view+json": {
       "model_id": "6c8df84105e74ccca97c0ba6815cf1ff",
       "version_major": 2,
       "version_minor": 0
      },
      "text/plain": [
       "special_tokens_map.json:   0%|          | 0.00/281 [00:00<?, ?B/s]"
      ]
     },
     "metadata": {},
     "output_type": "display_data"
    }
   ],
   "source": [
    "model = \"tiiuae/falcon-7b\"\n",
    "\n",
    "tokenizer = AutoTokenizer.from_pretrained(model)"
   ]
  },
  {
   "cell_type": "code",
   "execution_count": 12,
   "id": "ca7d9e10-752f-4f52-beca-52ee577f621c",
   "metadata": {
    "tags": []
   },
   "outputs": [
    {
     "data": {
      "application/vnd.jupyter.widget-view+json": {
       "model_id": "97d944ebd1ae4383a0c70fada11752f9",
       "version_major": 2,
       "version_minor": 0
      },
      "text/plain": [
       "config.json:   0%|          | 0.00/1.05k [00:00<?, ?B/s]"
      ]
     },
     "metadata": {},
     "output_type": "display_data"
    },
    {
     "data": {
      "application/vnd.jupyter.widget-view+json": {
       "model_id": "afa1e4d205884dacbf29d5278d09c256",
       "version_major": 2,
       "version_minor": 0
      },
      "text/plain": [
       "configuration_falcon.py:   0%|          | 0.00/7.16k [00:00<?, ?B/s]"
      ]
     },
     "metadata": {},
     "output_type": "display_data"
    },
    {
     "name": "stderr",
     "output_type": "stream",
     "text": [
      "A new version of the following files was downloaded from https://huggingface.co/tiiuae/falcon-7b:\n",
      "- configuration_falcon.py\n",
      ". Make sure to double-check they do not contain any added malicious code. To avoid downloading new versions of the code file, you can pin a revision.\n",
      "\n",
      "WARNING: You are currently loading Falcon using legacy code contained in the model repository. Falcon has now been fully ported into the Hugging Face transformers library. For the most up-to-date and high-performance version of the Falcon model code, please update to the latest version of transformers and then load the model without the trust_remote_code=True argument.\n",
      "\n"
     ]
    },
    {
     "data": {
      "application/vnd.jupyter.widget-view+json": {
       "model_id": "ec99c7265a214e15bdfda3f9a64110e7",
       "version_major": 2,
       "version_minor": 0
      },
      "text/plain": [
       "modeling_falcon.py:   0%|          | 0.00/56.9k [00:00<?, ?B/s]"
      ]
     },
     "metadata": {},
     "output_type": "display_data"
    },
    {
     "name": "stderr",
     "output_type": "stream",
     "text": [
      "A new version of the following files was downloaded from https://huggingface.co/tiiuae/falcon-7b:\n",
      "- modeling_falcon.py\n",
      ". Make sure to double-check they do not contain any added malicious code. To avoid downloading new versions of the code file, you can pin a revision.\n"
     ]
    },
    {
     "data": {
      "application/vnd.jupyter.widget-view+json": {
       "model_id": "22c1c1c60172407787e7e018a204d9c5",
       "version_major": 2,
       "version_minor": 0
      },
      "text/plain": [
       "pytorch_model.bin.index.json:   0%|          | 0.00/16.9k [00:00<?, ?B/s]"
      ]
     },
     "metadata": {},
     "output_type": "display_data"
    },
    {
     "data": {
      "application/vnd.jupyter.widget-view+json": {
       "model_id": "b3bc6821009e49798527988c5981b646",
       "version_major": 2,
       "version_minor": 0
      },
      "text/plain": [
       "Downloading shards:   0%|          | 0/2 [00:00<?, ?it/s]"
      ]
     },
     "metadata": {},
     "output_type": "display_data"
    },
    {
     "data": {
      "application/vnd.jupyter.widget-view+json": {
       "model_id": "ee08c8fc010b485eadaa65ec25c9c931",
       "version_major": 2,
       "version_minor": 0
      },
      "text/plain": [
       "pytorch_model-00001-of-00002.bin:   0%|          | 0.00/9.95G [00:00<?, ?B/s]"
      ]
     },
     "metadata": {},
     "output_type": "display_data"
    },
    {
     "data": {
      "application/vnd.jupyter.widget-view+json": {
       "model_id": "113dc1d663704a9fa69a6f19c7ece3c3",
       "version_major": 2,
       "version_minor": 0
      },
      "text/plain": [
       "pytorch_model-00002-of-00002.bin:   0%|          | 0.00/4.48G [00:00<?, ?B/s]"
      ]
     },
     "metadata": {},
     "output_type": "display_data"
    },
    {
     "data": {
      "application/vnd.jupyter.widget-view+json": {
       "model_id": "1083e4d54ead4888b11386b877f2655e",
       "version_major": 2,
       "version_minor": 0
      },
      "text/plain": [
       "Loading checkpoint shards:   0%|          | 0/2 [00:00<?, ?it/s]"
      ]
     },
     "metadata": {},
     "output_type": "display_data"
    },
    {
     "data": {
      "application/vnd.jupyter.widget-view+json": {
       "model_id": "b511f7f482f24a6789f3a49948b29028",
       "version_major": 2,
       "version_minor": 0
      },
      "text/plain": [
       "generation_config.json:   0%|          | 0.00/117 [00:00<?, ?B/s]"
      ]
     },
     "metadata": {},
     "output_type": "display_data"
    }
   ],
   "source": [
    "pipeline = transformers.pipeline(\n",
    "    \"text-generation\",\n",
    "    model=model,\n",
    "    tokenizer=tokenizer,\n",
    "    torch_dtype=torch.bfloat16,\n",
    "    trust_remote_code=True,\n",
    "    device_map=\"auto\",\n",
    ")"
   ]
  },
  {
   "cell_type": "code",
   "execution_count": 13,
   "id": "513650e3-02bc-41de-86de-385dd5672e8d",
   "metadata": {
    "tags": []
   },
   "outputs": [
    {
     "name": "stderr",
     "output_type": "stream",
     "text": [
      "Setting `pad_token_id` to `eos_token_id`:11 for open-end generation.\n"
     ]
    }
   ],
   "source": [
    "sequences = pipeline(\n",
    "   \"Girafatron is obsessed with giraffes, the most glorious animal on the face of this Earth. Giraftron believes all other animals are irrelevant when compared to the glorious majesty of the giraffe.\\nDaniel: Hello, Girafatron!\\nGirafatron:\",\n",
    "    max_length=200,\n",
    "    do_sample=True,\n",
    "    top_k=10,\n",
    "    num_return_sequences=1,\n",
    "    eos_token_id=tokenizer.eos_token_id,\n",
    ")"
   ]
  },
  {
   "cell_type": "code",
   "execution_count": 14,
   "id": "3b432db9-12f2-4461-af4f-3ec2675c74fc",
   "metadata": {
    "tags": []
   },
   "outputs": [
    {
     "name": "stdout",
     "output_type": "stream",
     "text": [
      "Result: Girafatron is obsessed with giraffes, the most glorious animal on the face of this Earth. Giraftron believes all other animals are irrelevant when compared to the glorious majesty of the giraffe.\n",
      "Daniel: Hello, Girafatron!\n",
      "Girafatron: Daniel.\n",
      "Daniel: I am here for the interview.\n",
      "Girafatron: Of course, Daniel.\n",
      "Daniel: Girafatron, I want to know, how do you feel, when you think about yourself?\n",
      "Girafatron: I feel glorious, Daniel.\n",
      "Daniel: What is the most important quality that a giraffe should have?\n",
      "Girafatron: A giraffe should have a glorious neck, Daniel.\n",
      "Daniel: What is your favorite food?\n",
      "Girafatron: My favorite food is the leaves and branches of trees.\n",
      "Daniel: What do you think about other animals?\n",
      "Girafatron\n"
     ]
    }
   ],
   "source": [
    "for seq in sequences:\n",
    "    print(f\"Result: {seq['generated_text']}\")"
   ]
  },
  {
   "cell_type": "code",
   "execution_count": 1,
   "id": "779bb6ef-b224-4261-a785-d9f5271ce4f3",
   "metadata": {},
   "outputs": [
    {
     "name": "stdout",
     "output_type": "stream",
     "text": [
      "Package                           Version\n",
      "--------------------------------- ------------\n",
      "absl-py                           2.0.0\n",
      "accelerate                        0.24.1\n",
      "aiofiles                          22.1.0\n",
      "aiosqlite                         0.19.0\n",
      "alembic                           1.12.1\n",
      "altair                            5.1.2\n",
      "anyio                             4.1.0\n",
      "archspec                          0.2.2\n",
      "argon2-cffi                       23.1.0\n",
      "argon2-cffi-bindings              21.2.0\n",
      "arrow                             1.3.0\n",
      "asttokens                         2.4.1\n",
      "astunparse                        1.6.3\n",
      "async-generator                   1.10\n",
      "async-lru                         2.0.4\n",
      "attrs                             23.1.0\n",
      "Babel                             2.13.1\n",
      "beautifulsoup4                    4.12.2\n",
      "bleach                            6.1.0\n",
      "blinker                           1.7.0\n",
      "bokeh                             3.3.1\n",
      "boltons                           23.0.0\n",
      "Bottleneck                        1.3.7\n",
      "branca                            0.7.0\n",
      "Brotli                            1.1.0\n",
      "cached-property                   1.5.2\n",
      "cachetools                        5.3.2\n",
      "certifi                           2023.11.17\n",
      "certipy                           0.1.3\n",
      "cffi                              1.16.0\n",
      "charset-normalizer                3.3.2\n",
      "click                             8.1.7\n",
      "cloudpickle                       3.0.0\n",
      "colorama                          0.4.6\n",
      "comm                              0.1.4\n",
      "conda                             23.10.0\n",
      "conda-libmamba-solver             23.11.1\n",
      "conda-package-handling            2.2.0\n",
      "conda_package_streaming           0.9.0\n",
      "contourpy                         1.2.0\n",
      "cryptography                      41.0.6\n",
      "cycler                            0.12.1\n",
      "Cython                            3.0.6\n",
      "cytoolz                           0.12.2\n",
      "dask                              2023.3.0\n",
      "debugpy                           1.8.0\n",
      "decorator                         5.1.1\n",
      "defusedxml                        0.7.1\n",
      "dill                              0.3.7\n",
      "distributed                       2023.3.0\n",
      "entrypoints                       0.4\n",
      "exceptiongroup                    1.2.0\n",
      "executing                         2.0.1\n",
      "fastjsonschema                    2.19.0\n",
      "filelock                          3.9.0\n",
      "flatbuffers                       23.5.26\n",
      "fonttools                         4.45.1\n",
      "fqdn                              1.5.1\n",
      "fsspec                            2023.10.0\n",
      "gast                              0.4.0\n",
      "gitdb                             4.0.11\n",
      "GitPython                         3.1.37\n",
      "gmpy2                             2.1.2\n",
      "google-auth                       2.23.4\n",
      "google-auth-oauthlib              0.4.6\n",
      "google-pasta                      0.2.0\n",
      "graphviz                          0.19.1\n",
      "greenlet                          3.0.1\n",
      "grpcio                            1.59.3\n",
      "h5py                              3.10.0\n",
      "huggingface-hub                   0.19.4\n",
      "idna                              3.6\n",
      "imagecodecs                       2023.9.18\n",
      "imageio                           2.31.5\n",
      "importlib-metadata                6.8.0\n",
      "importlib-resources               6.1.1\n",
      "iniconfig                         2.0.0\n",
      "ipykernel                         6.26.0\n",
      "ipyleaflet                        0.17.2\n",
      "ipympl                            0.9.3\n",
      "ipython                           8.18.1\n",
      "ipython-genutils                  0.2.0\n",
      "ipywidgets                        8.0.4\n",
      "isoduration                       20.11.0\n",
      "jedi                              0.19.1\n",
      "Jinja2                            3.1.2\n",
      "joblib                            1.3.2\n",
      "json5                             0.9.14\n",
      "jsonpatch                         1.33\n",
      "jsonpointer                       2.4\n",
      "jsonschema                        4.20.0\n",
      "jsonschema-specifications         2023.11.1\n",
      "jupyter_client                    7.4.9\n",
      "jupyter-contrib-core              0.4.2\n",
      "jupyter-contrib-nbextensions      0.7.0\n",
      "jupyter_core                      5.5.0\n",
      "jupyter-events                    0.9.0\n",
      "jupyter-highlight-selected-word   0.2.0\n",
      "jupyter-lsp                       2.2.1\n",
      "jupyter-nbextensions-configurator 0.6.1\n",
      "jupyter_server                    2.4.0\n",
      "jupyter_server_fileid             0.9.0\n",
      "jupyter-server-mathjax            0.2.6\n",
      "jupyter_server_terminals          0.4.4\n",
      "jupyter_server_ydoc               0.8.0\n",
      "jupyter-telemetry                 0.1.0\n",
      "jupyter-ydoc                      0.2.5\n",
      "jupyterhub                        4.0.2\n",
      "jupyterlab                        3.6.6\n",
      "jupyterlab-drawio                 0.9.0\n",
      "jupyterlab-git                    0.41.0\n",
      "jupyterlab_pygments               0.3.0\n",
      "jupyterlab_server                 2.25.2\n",
      "jupyterlab-spellchecker           0.7.3\n",
      "jupyterlab-widgets                3.0.9\n",
      "keras                             2.11.0\n",
      "kiwisolver                        1.4.5\n",
      "lazy_loader                       0.3\n",
      "libclang                          16.0.6\n",
      "libmambapy                        1.5.3\n",
      "llvmlite                          0.41.1\n",
      "locket                            1.0.0\n",
      "lxml                              4.9.3\n",
      "lz4                               4.3.2\n",
      "Mako                              1.3.0\n",
      "mamba                             1.5.3\n",
      "Markdown                          3.5.1\n",
      "MarkupSafe                        2.1.3\n",
      "matplotlib                        3.8.2\n",
      "matplotlib-inline                 0.1.6\n",
      "mistune                           3.0.2\n",
      "mpmath                            1.3.0\n",
      "msgpack                           1.0.7\n",
      "munkres                           1.1.4\n",
      "nbclassic                         1.0.0\n",
      "nbclient                          0.8.0\n",
      "nbconvert                         7.11.0\n",
      "nbdime                            3.2.1\n",
      "nbformat                          5.9.2\n",
      "nest-asyncio                      1.5.8\n",
      "networkx                          3.2.1\n",
      "notebook                          6.5.6\n",
      "notebook_shim                     0.2.3\n",
      "numba                             0.58.1\n",
      "numexpr                           2.7.3\n",
      "numpy                             1.26.2\n",
      "oauthlib                          3.2.2\n",
      "opt-einsum                        3.3.0\n",
      "overrides                         7.4.0\n",
      "packaging                         23.2\n",
      "pamela                            1.1.0\n",
      "pandas                            2.1.3\n",
      "pandocfilters                     1.5.0\n",
      "parso                             0.8.3\n",
      "partd                             1.4.1\n",
      "patsy                             0.5.3\n",
      "pexpect                           4.8.0\n",
      "pickleshare                       0.7.5\n",
      "Pillow                            10.1.0\n",
      "pip                               23.3.1\n",
      "pkgutil_resolve_name              1.3.10\n",
      "platformdirs                      4.0.0\n",
      "plotly                            5.13.1\n",
      "pluggy                            1.3.0\n",
      "prometheus-client                 0.19.0\n",
      "prompt-toolkit                    3.0.41\n",
      "protobuf                          3.19.6\n",
      "psutil                            5.9.5\n",
      "ptyprocess                        0.7.0\n",
      "pure-eval                         0.2.2\n",
      "py-cpuinfo                        9.0.0\n",
      "pyarrow                           14.0.1\n",
      "pyarrow-hotfix                    0.6\n",
      "pyasn1                            0.5.1\n",
      "pyasn1-modules                    0.3.0\n",
      "pycosat                           0.6.6\n",
      "pycparser                         2.21\n",
      "pycurl                            7.45.1\n",
      "Pygments                          2.17.2\n",
      "PyJWT                             2.8.0\n",
      "pyOpenSSL                         23.3.0\n",
      "pyparsing                         3.1.1\n",
      "PySocks                           1.7.1\n",
      "pytest                            7.2.2\n",
      "python-dateutil                   2.8.2\n",
      "python-json-logger                2.0.7\n",
      "pytz                              2023.3.post1\n",
      "PyWavelets                        1.4.1\n",
      "PyYAML                            6.0.1\n",
      "pyzmq                             24.0.1\n",
      "referencing                       0.31.1\n",
      "regex                             2023.10.3\n",
      "requests                          2.31.0\n",
      "requests-oauthlib                 1.3.1\n",
      "rfc3339-validator                 0.1.4\n",
      "rfc3986-validator                 0.1.1\n",
      "rise                              5.7.1\n",
      "rpds-py                           0.13.2\n",
      "rpy2                              3.5.11\n",
      "rsa                               4.9\n",
      "ruamel.yaml                       0.18.5\n",
      "ruamel.yaml.clib                  0.2.7\n",
      "safetensors                       0.4.1\n",
      "scikit-image                      0.22.0\n",
      "scikit-learn                      1.3.2\n",
      "SciPy                             1.11.4\n",
      "seaborn                           0.13.0\n",
      "Send2Trash                        1.8.2\n",
      "setuptools                        68.2.2\n",
      "simplegeneric                     0.8.1\n",
      "six                               1.16.0\n",
      "smmap                             5.0.1\n",
      "sniffio                           1.3.0\n",
      "sortedcontainers                  2.4.0\n",
      "soupsieve                         2.5\n",
      "SQLAlchemy                        2.0.23\n",
      "stack-data                        0.6.2\n",
      "statsmodels                       0.14.0\n",
      "sympy                             1.12\n",
      "tables                            3.9.2\n",
      "tblib                             2.0.0\n",
      "tenacity                          8.2.3\n",
      "tensorboard                       2.11.2\n",
      "tensorboard-data-server           0.6.1\n",
      "tensorboard-plugin-wit            1.8.1\n",
      "tensorflow                        2.11.1\n",
      "tensorflow-estimator              2.11.0\n",
      "tensorflow-io-gcs-filesystem      0.34.0\n",
      "termcolor                         2.3.0\n",
      "terminado                         0.18.0\n",
      "threadpoolctl                     3.2.0\n",
      "tifffile                          2023.9.26\n",
      "tinycss2                          1.2.1\n",
      "tokenizers                        0.15.0\n",
      "tomli                             2.0.1\n",
      "toolz                             0.12.0\n",
      "torch                             2.1.0+cu121\n",
      "torchaudio                        0.13.1+cu116\n",
      "torchvision                       0.14.1+cu116\n",
      "torchviz                          0.0.2\n",
      "tornado                           6.3.3\n",
      "tqdm                              4.66.1\n",
      "traitlets                         5.14.0\n",
      "traittypes                        0.2.1\n",
      "transformers                      4.35.2\n",
      "triton                            2.1.0\n",
      "truststore                        0.8.0\n",
      "types-python-dateutil             2.8.19.14\n",
      "typing_extensions                 4.8.0\n",
      "typing-utils                      0.1.0\n",
      "tzdata                            2023.3\n",
      "tzlocal                           5.2\n",
      "unicodedata2                      15.1.0\n",
      "uri-template                      1.3.0\n",
      "urllib3                           2.1.0\n",
      "wcwidth                           0.2.12\n",
      "webcolors                         1.13\n",
      "webencodings                      0.5.1\n",
      "websocket-client                  1.6.4\n",
      "Werkzeug                          3.0.1\n",
      "wheel                             0.42.0\n",
      "widgetsnbextension                4.0.9\n",
      "wrapt                             1.16.0\n",
      "xlrd                              2.0.1\n",
      "xyzservices                       2023.10.1\n",
      "y-py                              0.6.2\n",
      "ypy-websocket                     0.8.4\n",
      "zict                              3.0.0\n",
      "zipp                              3.17.0\n",
      "zstandard                         0.22.0\n",
      "Note: you may need to restart the kernel to use updated packages.\n"
     ]
    }
   ],
   "source": [
    "pip list"
   ]
  },
  {
   "cell_type": "code",
   "execution_count": null,
   "id": "7ace0203-c2c4-46c1-8698-f11e96dde100",
   "metadata": {},
   "outputs": [],
   "source": []
  }
 ],
 "metadata": {
  "kernelspec": {
   "display_name": "Python 3 (ipykernel)",
   "language": "python",
   "name": "python3"
  },
  "language_info": {
   "codemirror_mode": {
    "name": "ipython",
    "version": 3
   },
   "file_extension": ".py",
   "mimetype": "text/x-python",
   "name": "python",
   "nbconvert_exporter": "python",
   "pygments_lexer": "ipython3",
   "version": "3.10.13"
  }
 },
 "nbformat": 4,
 "nbformat_minor": 5
}
